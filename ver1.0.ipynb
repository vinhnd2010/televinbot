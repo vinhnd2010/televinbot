{
 "cells": [
  {
   "cell_type": "code",
   "execution_count": 1,
   "metadata": {},
   "outputs": [],
   "source": [
    "import requests  \n",
    "import datetime\n",
    "\n",
    "class BotHandler:\n",
    "    \n",
    "    def __init__(self, token):\n",
    "        self.token = token\n",
    "        self.api_url = \"https://api.telegram.org/bot{}/\".format(token)\n",
    "\n",
    "    def get_updates(self, offset=None, timeout=30):\n",
    "        method = 'getUpdates'\n",
    "        params = {'timeout': timeout, 'offset': offset}\n",
    "        resp = requests.get(self.api_url + method, params)\n",
    "        result_json = resp.json()['result']\n",
    "        return result_json\n",
    "\n",
    "    def send_message(self, chat_id, text):\n",
    "        params = {'chat_id': chat_id, 'text': text}\n",
    "        method = 'sendMessage'\n",
    "        resp = requests.post(self.api_url + method, params)\n",
    "        return resp\n",
    "\n",
    "    def get_last_update(self):\n",
    "        get_result = self.get_updates()\n",
    "\n",
    "        if len(get_result) > 0:\n",
    "            last_update = get_result[-1]\n",
    "        else:\n",
    "            last_update = get_result[len(get_result)]\n",
    "        return last_update"
   ]
  },
  {
   "cell_type": "code",
   "execution_count": 2,
   "metadata": {},
   "outputs": [
    {
     "name": "stdout",
     "output_type": "stream",
     "text": [
      "last update id:  420796483\n"
     ]
    },
    {
     "ename": "IndexError",
     "evalue": "list index out of range",
     "output_type": "error",
     "traceback": [
      "\u001b[0;31m---------------------------------\u001b[0m",
      "\u001b[0;31mIndexError\u001b[0mTraceback (most recent call last)",
      "\u001b[0;32m<ipython-input-2-1300b2ccfd28>\u001b[0m in \u001b[0;36m<module>\u001b[0;34m()\u001b[0m\n\u001b[1;32m     32\u001b[0m \u001b[0;32mif\u001b[0m \u001b[0m__name__\u001b[0m \u001b[0;34m==\u001b[0m \u001b[0;34m'__main__'\u001b[0m\u001b[0;34m:\u001b[0m\u001b[0;34m\u001b[0m\u001b[0m\n\u001b[1;32m     33\u001b[0m     \u001b[0;32mtry\u001b[0m\u001b[0;34m:\u001b[0m\u001b[0;34m\u001b[0m\u001b[0m\n\u001b[0;32m---> 34\u001b[0;31m         \u001b[0mmain\u001b[0m\u001b[0;34m(\u001b[0m\u001b[0;34m)\u001b[0m\u001b[0;34m\u001b[0m\u001b[0m\n\u001b[0m\u001b[1;32m     35\u001b[0m     \u001b[0;32mexcept\u001b[0m \u001b[0mKeyboardInterrupt\u001b[0m\u001b[0;34m:\u001b[0m\u001b[0;34m\u001b[0m\u001b[0m\n\u001b[1;32m     36\u001b[0m         \u001b[0mexit\u001b[0m\u001b[0;34m(\u001b[0m\u001b[0;34m)\u001b[0m\u001b[0;34m\u001b[0m\u001b[0m\n",
      "\u001b[0;32m<ipython-input-2-1300b2ccfd28>\u001b[0m in \u001b[0;36mmain\u001b[0;34m()\u001b[0m\n\u001b[1;32m     10\u001b[0m         \u001b[0mhour\u001b[0m \u001b[0;34m=\u001b[0m \u001b[0mnow\u001b[0m\u001b[0;34m.\u001b[0m\u001b[0mhour\u001b[0m\u001b[0;34m\u001b[0m\u001b[0m\n\u001b[1;32m     11\u001b[0m \u001b[0;34m\u001b[0m\u001b[0m\n\u001b[0;32m---> 12\u001b[0;31m         \u001b[0;32mif\u001b[0m \u001b[0mlast_update_id\u001b[0m \u001b[0;34m==\u001b[0m \u001b[0mgreet_bot\u001b[0m\u001b[0;34m.\u001b[0m\u001b[0mget_last_update\u001b[0m\u001b[0;34m(\u001b[0m\u001b[0;34m)\u001b[0m\u001b[0;34m[\u001b[0m\u001b[0;34m'update_id'\u001b[0m\u001b[0;34m]\u001b[0m\u001b[0;34m:\u001b[0m\u001b[0;34m\u001b[0m\u001b[0m\n\u001b[0m\u001b[1;32m     13\u001b[0m             \u001b[0mlast_update\u001b[0m \u001b[0;34m=\u001b[0m \u001b[0mgreet_bot\u001b[0m\u001b[0;34m.\u001b[0m\u001b[0mget_last_update\u001b[0m\u001b[0;34m(\u001b[0m\u001b[0;34m)\u001b[0m\u001b[0;34m\u001b[0m\u001b[0m\n\u001b[1;32m     14\u001b[0m             \u001b[0mlast_update_id\u001b[0m \u001b[0;34m=\u001b[0m \u001b[0mlast_update\u001b[0m\u001b[0;34m[\u001b[0m\u001b[0;34m'update_id'\u001b[0m\u001b[0;34m]\u001b[0m\u001b[0;34m\u001b[0m\u001b[0m\n",
      "\u001b[0;32m<ipython-input-1-5becb1922bb7>\u001b[0m in \u001b[0;36mget_last_update\u001b[0;34m(self)\u001b[0m\n\u001b[1;32m     27\u001b[0m             \u001b[0mlast_update\u001b[0m \u001b[0;34m=\u001b[0m \u001b[0mget_result\u001b[0m\u001b[0;34m[\u001b[0m\u001b[0;34m-\u001b[0m\u001b[0;36m1\u001b[0m\u001b[0;34m]\u001b[0m\u001b[0;34m\u001b[0m\u001b[0m\n\u001b[1;32m     28\u001b[0m         \u001b[0;32melse\u001b[0m\u001b[0;34m:\u001b[0m\u001b[0;34m\u001b[0m\u001b[0m\n\u001b[0;32m---> 29\u001b[0;31m             \u001b[0mlast_update\u001b[0m \u001b[0;34m=\u001b[0m \u001b[0mget_result\u001b[0m\u001b[0;34m[\u001b[0m\u001b[0mlen\u001b[0m\u001b[0;34m(\u001b[0m\u001b[0mget_result\u001b[0m\u001b[0;34m)\u001b[0m\u001b[0;34m]\u001b[0m\u001b[0;34m\u001b[0m\u001b[0m\n\u001b[0m\u001b[1;32m     30\u001b[0m         \u001b[0;32mreturn\u001b[0m \u001b[0mlast_update\u001b[0m\u001b[0;34m\u001b[0m\u001b[0m\n",
      "\u001b[0;31mIndexError\u001b[0m: list index out of range"
     ]
    }
   ],
   "source": [
    "tele_bot = BotHandler(\"538312875:AAH_MQoz4E7BlOHtvlUjOIGsxU9xW545qKM\")  \n",
    "\n",
    "def main():  \n",
    "    new_offset = None\n",
    "    last_update_id = tele_bot.get_last_update()['update_id']\n",
    "    print(\"last update id: \", last_update_id)\n",
    "    \n",
    "    while True:\n",
    "        now = datetime.datetime.now()\n",
    "        hour = now.hour\n",
    "        \n",
    "        if last_update_id == tele_bot.get_last_update()['update_id']:\n",
    "            last_update = tele_bot.get_last_update()\n",
    "            last_update_id = last_update['update_id']\n",
    "            last_chat_text = last_update['message']['text']\n",
    "            last_chat_id = last_update['message']['chat']['id']\n",
    "            last_chat_name = last_update['message']['chat']['first_name']\n",
    "            text_message = ''\n",
    "            \n",
    "            if last_chat_text.lower() and 6 <= hour < 12:\n",
    "                text_message = 'Good Morning  {}'\n",
    "            elif last_chat_text.lower() and 12 <= hour < 17:\n",
    "                text_message = 'Good Afternoon {}'\n",
    "            elif last_chat_text.lower() and 17 <= hour < 23:\n",
    "                text_message = 'Good Evening  {}'\n",
    "                \n",
    "            tele_bot.send_message(last_chat_id, text_message.format(last_chat_name))\n",
    "            new_offset = last_update_id + 1\n",
    "            last_update_id += 1\n",
    "    sleep(1)\n",
    "\n",
    "if __name__ == '__main__':  \n",
    "    try:\n",
    "        main()\n",
    "    except KeyboardInterrupt:\n",
    "        exit()"
   ]
  },
  {
   "cell_type": "code",
   "execution_count": null,
   "metadata": {},
   "outputs": [],
   "source": []
  }
 ],
 "metadata": {
  "kernelspec": {
   "display_name": "Python 3",
   "language": "python",
   "name": "python3"
  },
  "language_info": {
   "codemirror_mode": {
    "name": "ipython",
    "version": 3
   },
   "file_extension": ".py",
   "mimetype": "text/x-python",
   "name": "python",
   "nbconvert_exporter": "python",
   "pygments_lexer": "ipython3",
   "version": "3.5.2"
  }
 },
 "nbformat": 4,
 "nbformat_minor": 2
}
